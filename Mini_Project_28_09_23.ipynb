{
  "nbformat": 4,
  "nbformat_minor": 0,
  "metadata": {
    "colab": {
      "provenance": []
    },
    "kernelspec": {
      "name": "python3",
      "display_name": "Python 3"
    },
    "language_info": {
      "name": "python"
    }
  },
  "cells": [
    {
      "cell_type": "code",
      "source": [
        "from google.colab import drive\n",
        "drive.mount('/content/drive')"
      ],
      "metadata": {
        "colab": {
          "base_uri": "https://localhost:8080/"
        },
        "id": "NilFDlxRLPsm",
        "outputId": "dd0ebcac-5dca-4f7a-d8a8-145526950fe9"
      },
      "execution_count": null,
      "outputs": [
        {
          "output_type": "stream",
          "name": "stdout",
          "text": [
            "Drive already mounted at /content/drive; to attempt to forcibly remount, call drive.mount(\"/content/drive\", force_remount=True).\n"
          ]
        }
      ]
    },
    {
      "cell_type": "code",
      "execution_count": null,
      "metadata": {
        "colab": {
          "base_uri": "https://localhost:8080/"
        },
        "id": "Y7oyJ0HfKKLs",
        "outputId": "203d471a-3951-4da6-c384-2558e705c40e"
      },
      "outputs": [
        {
          "output_type": "execute_result",
          "data": {
            "text/plain": [
              "array([[[3172, 4142, 4506, ..., 1057, 1020, 1020],\n",
              "        [2580, 4266, 4502, ..., 1064, 1029, 1020],\n",
              "        [3687, 4266, 4421, ..., 1061, 1030, 1016],\n",
              "        ...,\n",
              "        [2570, 3890, 4320, ..., 1042, 1021, 1015],\n",
              "        [3170, 4130, 4320, ..., 1054, 1024, 1020],\n",
              "        [3172, 3890, 4316, ..., 1043, 1034, 1016]],\n",
              "\n",
              "       [[2576, 4388, 4334, ..., 1047, 1030, 1006],\n",
              "        [2747, 4264, 4592, ..., 1055, 1039, 1015],\n",
              "        [2750, 4268, 4423, ..., 1047, 1026, 1015],\n",
              "        ...,\n",
              "        [3859, 4512, 4605, ..., 1056, 1035, 1015],\n",
              "        [3686, 4264, 4690, ..., 1051, 1012, 1020],\n",
              "        [2744, 4268, 4597, ..., 1047, 1019, 1016]],\n",
              "\n",
              "       [[2744, 4146, 4416, ..., 1055, 1029, 1025],\n",
              "        [2576, 4389, 4416, ..., 1051, 1021, 1011],\n",
              "        [2744, 4273, 4420, ..., 1068, 1033, 1010],\n",
              "        ...,\n",
              "        [2570, 4266, 4509, ..., 1051, 1025, 1010],\n",
              "        [2576, 4262, 4496, ..., 1047, 1029, 1020],\n",
              "        [2742, 4142, 4230, ..., 1042, 1025, 1011]],\n",
              "\n",
              "       ...,\n",
              "\n",
              "       [[3324, 3728, 4002, ..., 1003, 1004, 1004],\n",
              "        [2983, 3604, 3829, ..., 1011, 1013, 1008],\n",
              "        [2988, 3612, 3913, ..., 1012, 1001, 1004],\n",
              "        ...,\n",
              "        [2564, 4115, 4103, ..., 1003, 1005, 1013],\n",
              "        [2730, 4111, 4103, ..., 1015, 1013, 1004],\n",
              "        [3156, 3991, 4103, ..., 1017, 1014, 1000]],\n",
              "\n",
              "       [[3161, 3731, 3834, ..., 1002, 1000, 1000],\n",
              "        [2727, 3742, 4011, ...,  999,  991, 1003],\n",
              "        [2988, 4114, 4011, ..., 1006, 1008, 1013],\n",
              "        ...,\n",
              "        [3156, 3858, 4016, ..., 1011, 1004, 1003],\n",
              "        [3159, 3858, 4100, ..., 1016, 1000, 1000],\n",
              "        [2561, 3866, 4003, ..., 1008, 1008, 1000]],\n",
              "\n",
              "       [[2979, 3728, 3732, ..., 1006, 1004, 1000],\n",
              "        [2977, 3728, 3741, ..., 1007, 1009,  990],\n",
              "        [2814, 3728, 3914, ...,  999, 1009, 1003],\n",
              "        ...,\n",
              "        [3153, 3864, 4282, ..., 1003, 1008, 1000],\n",
              "        [3155, 4104, 4106, ..., 1011, 1005, 1003],\n",
              "        [3323, 3860, 4197, ..., 1007, 1004, 1000]]], dtype=uint16)"
            ]
          },
          "metadata": {},
          "execution_count": 30
        }
      ],
      "source": [
        "import numpy as np\n",
        "import pandas as pd\n",
        "\n",
        "# Replace 'your_file.npy' with the actual file path.\n",
        "file_path = '/content/indianpinearray.npy'\n",
        "\n",
        "# Load the .npy file\n",
        "loaded_data = np.load(file_path)\n",
        "\n",
        "# Now, 'loaded_data' contains the data from the .npy file.\n",
        "loaded_data\n"
      ]
    },
    {
      "cell_type": "code",
      "source": [
        "loaded_data.shape\n",
        "Oneonethree_band = loaded_data[:, :, 113]\n",
        "second_band = loaded_data[:, :, 1]"
      ],
      "metadata": {
        "id": "OAP8Sap1nkcy"
      },
      "execution_count": null,
      "outputs": []
    },
    {
      "cell_type": "code",
      "source": [
        "loaded_data.shape\n",
        "Oneonefour_band = loaded_data[:, :, 114]\n",
        "second_band = loaded_data[:, :, 1]"
      ],
      "metadata": {
        "id": "vh4IhkMEesi0"
      },
      "execution_count": null,
      "outputs": []
    },
    {
      "cell_type": "code",
      "source": [
        "loaded_data.shape\n",
        "Oneonefive_band = loaded_data[:, :, 115]\n",
        "second_band = loaded_data[:, :, 1]"
      ],
      "metadata": {
        "id": "vyZhT7LTeyTz"
      },
      "execution_count": null,
      "outputs": []
    },
    {
      "cell_type": "code",
      "source": [
        "loaded_data.shape\n",
        "Oneonesix_band = loaded_data[:, :, 116]\n",
        "second_band = loaded_data[:, :, 1]"
      ],
      "metadata": {
        "id": "jJGiuQBEe2mC"
      },
      "execution_count": null,
      "outputs": []
    },
    {
      "cell_type": "code",
      "source": [
        "loaded_data.shape\n",
        "Oneoneseven_band = loaded_data[:, :, 117]\n",
        "second_band = loaded_data[:, :, 1]"
      ],
      "metadata": {
        "id": "YmZl-Uixe5VC"
      },
      "execution_count": null,
      "outputs": []
    },
    {
      "cell_type": "code",
      "source": [
        "loaded_data.shape\n",
        "Oneoneeight_band = loaded_data[:, :, 118]\n",
        "second_band = loaded_data[:, :, 1]"
      ],
      "metadata": {
        "id": "s3JfazpSe7up"
      },
      "execution_count": null,
      "outputs": []
    },
    {
      "cell_type": "code",
      "source": [
        "loaded_data.shape\n",
        "Oneonenine_band = loaded_data[:, :, 119]\n",
        "second_band = loaded_data[:, :, 1]"
      ],
      "metadata": {
        "id": "ZwoQL6sqe_GR"
      },
      "execution_count": null,
      "outputs": []
    },
    {
      "cell_type": "code",
      "source": [
        "loaded_data.shape\n",
        "Onetwenty_band = loaded_data[:, :, 120]\n",
        "second_band = loaded_data[:, :, 1]"
      ],
      "metadata": {
        "id": "8JslDHdWfBcA"
      },
      "execution_count": null,
      "outputs": []
    },
    {
      "cell_type": "code",
      "source": [
        "loaded_data.shape\n",
        "Onetwentyone_band = loaded_data[:, :, 121]\n",
        "second_band = loaded_data[:, :, 1]"
      ],
      "metadata": {
        "id": "nzDKFarrfDbp"
      },
      "execution_count": null,
      "outputs": []
    },
    {
      "cell_type": "code",
      "source": [
        "loaded_data.shape\n",
        "Onetwentytwo_band = loaded_data[:, :, 122]\n",
        "second_band = loaded_data[:, :, 1]"
      ],
      "metadata": {
        "id": "iyLbnYy2fF11"
      },
      "execution_count": null,
      "outputs": []
    },
    {
      "cell_type": "code",
      "source": [
        "loaded_data.shape\n",
        "Onesixtytwo_band = loaded_data[:, :, 162]\n",
        "second_band = loaded_data[:, :, 1]"
      ],
      "metadata": {
        "id": "kek9etK-fH7I"
      },
      "execution_count": null,
      "outputs": []
    },
    {
      "cell_type": "code",
      "source": [
        "loaded_data.shape\n",
        "Onesixtythree_band = loaded_data[:, :, 163]\n",
        "second_band = loaded_data[:, :, 1]"
      ],
      "metadata": {
        "id": "ZzStXw7OfLLd"
      },
      "execution_count": null,
      "outputs": []
    },
    {
      "cell_type": "code",
      "source": [
        "loaded_data.shape\n",
        "Onesixtyfour_band = loaded_data[:, :, 164]\n",
        "second_band = loaded_data[:, :, 1]"
      ],
      "metadata": {
        "id": "37YO8kWNfNKB"
      },
      "execution_count": null,
      "outputs": []
    },
    {
      "cell_type": "code",
      "source": [
        "loaded_data.shape\n",
        "Onesixtyfive_band = loaded_data[:, :, 165]\n",
        "second_band = loaded_data[:, :, 1]"
      ],
      "metadata": {
        "id": "VVvCMXLjfPNB"
      },
      "execution_count": null,
      "outputs": []
    },
    {
      "cell_type": "code",
      "source": [
        "loaded_data.shape\n",
        "Onesixtysix_band = loaded_data[:, :, 166]\n",
        "second_band = loaded_data[:, :, 1]"
      ],
      "metadata": {
        "id": "jJeSdXh3fQ-j"
      },
      "execution_count": null,
      "outputs": []
    },
    {
      "cell_type": "code",
      "source": [
        "import matplotlib.pyplot as plt\n",
        "plt.imsave(\"Oneonethree_band.png\", Oneonethree_band)"
      ],
      "metadata": {
        "id": "31lbqRl93mOJ"
      },
      "execution_count": 51,
      "outputs": []
    },
    {
      "cell_type": "code",
      "source": [
        "import matplotlib.pyplot as plt\n",
        "plt.imsave(\"Oneonefour_band.png\", Oneonefour_band)"
      ],
      "metadata": {
        "id": "5oLqlUK13xUi"
      },
      "execution_count": 53,
      "outputs": []
    },
    {
      "cell_type": "code",
      "source": [
        "import matplotlib.pyplot as plt\n",
        "plt.imsave(\"Oneonefive_band.png\", Oneonefive_band)"
      ],
      "metadata": {
        "id": "I9CXINpr34o_"
      },
      "execution_count": 54,
      "outputs": []
    },
    {
      "cell_type": "code",
      "source": [
        "import matplotlib.pyplot as plt\n",
        "plt.imsave(\"Oneonesix_band.png\", Oneonesix_band)"
      ],
      "metadata": {
        "id": "LsXnk3ac3_3e"
      },
      "execution_count": 55,
      "outputs": []
    },
    {
      "cell_type": "code",
      "source": [
        "import matplotlib.pyplot as plt\n",
        "plt.imsave(\"Oneoneseven_band.png\", Oneoneseven_band)"
      ],
      "metadata": {
        "id": "pvJoKXjR4DO2"
      },
      "execution_count": 56,
      "outputs": []
    },
    {
      "cell_type": "code",
      "source": [
        "import matplotlib.pyplot as plt\n",
        "plt.imsave(\"Oneoneeight_band.png\", Oneoneeight_band)"
      ],
      "metadata": {
        "id": "X7azm_e54IAm"
      },
      "execution_count": 57,
      "outputs": []
    },
    {
      "cell_type": "code",
      "source": [
        "import matplotlib.pyplot as plt\n",
        "plt.imsave(\"Oneonenine_band.png\", Oneonenine_band)"
      ],
      "metadata": {
        "id": "wJDLkOrg4MB3"
      },
      "execution_count": 58,
      "outputs": []
    },
    {
      "cell_type": "code",
      "source": [
        "import matplotlib.pyplot as plt\n",
        "plt.imsave(\"Onetwenty_band.png\", Onetwenty_band)"
      ],
      "metadata": {
        "id": "qj-m-Ypa4O9Y"
      },
      "execution_count": 59,
      "outputs": []
    },
    {
      "cell_type": "code",
      "source": [
        "import matplotlib.pyplot as plt\n",
        "plt.imsave(\"Onetwentyone_band.png\", Onetwentyone_band)"
      ],
      "metadata": {
        "id": "dQYeWsgh4S4G"
      },
      "execution_count": 60,
      "outputs": []
    },
    {
      "cell_type": "code",
      "source": [
        "import matplotlib.pyplot as plt\n",
        "plt.imsave(\"Onetwentytwo_band.png\", Onetwentytwo_band)"
      ],
      "metadata": {
        "id": "efR3gM8p4XHd"
      },
      "execution_count": 61,
      "outputs": []
    },
    {
      "cell_type": "code",
      "source": [
        "import matplotlib.pyplot as plt\n",
        "plt.imsave(\"Onesixtytwo_band.png\", Onesixtytwo_band)"
      ],
      "metadata": {
        "id": "Uz2U-Eh34bXX"
      },
      "execution_count": 62,
      "outputs": []
    },
    {
      "cell_type": "code",
      "source": [
        "import matplotlib.pyplot as plt\n",
        "plt.imsave(\"Onesixtythree_band.png\", Onesixtythree_band)"
      ],
      "metadata": {
        "id": "ou0pyQBI4hcX"
      },
      "execution_count": 63,
      "outputs": []
    },
    {
      "cell_type": "code",
      "source": [
        "import matplotlib.pyplot as plt\n",
        "plt.imsave(\"Onesixtyfour_band.png\", Onesixtyfour_band)"
      ],
      "metadata": {
        "id": "sq6gh0NW4n1U"
      },
      "execution_count": 64,
      "outputs": []
    },
    {
      "cell_type": "code",
      "source": [
        "import matplotlib.pyplot as plt\n",
        "plt.imsave(\"Onesixtyfive_band.png\", Onesixtyfive_band)"
      ],
      "metadata": {
        "id": "ENu470m94q4P"
      },
      "execution_count": 65,
      "outputs": []
    },
    {
      "cell_type": "code",
      "source": [
        "import matplotlib.pyplot as plt\n",
        "plt.imsave(\"Onesixtysix_band.png\", Onesixtysix_band)"
      ],
      "metadata": {
        "id": "1dvhcV8O4tmy"
      },
      "execution_count": 66,
      "outputs": []
    },
    {
      "cell_type": "code",
      "source": [],
      "metadata": {
        "id": "HWo2hXbA72f2"
      },
      "execution_count": null,
      "outputs": []
    },
    {
      "cell_type": "code",
      "source": [
        "loaded_data.shape\n",
        "Onefourthyeight_band = loaded_data[:, :, 148]\n",
        "second_band = loaded_data[:, :, 1]"
      ],
      "metadata": {
        "id": "idQTsBEl6j8n"
      },
      "execution_count": 68,
      "outputs": []
    },
    {
      "cell_type": "code",
      "source": [
        "loaded_data.shape\n",
        "Onefourthynine_band = loaded_data[:, :, 149]\n",
        "second_band = loaded_data[:, :, 1]"
      ],
      "metadata": {
        "id": "68bt89xj6rNN"
      },
      "execution_count": 69,
      "outputs": []
    },
    {
      "cell_type": "code",
      "source": [
        "loaded_data.shape\n",
        "Onefifthy_band = loaded_data[:, :, 150]\n",
        "second_band = loaded_data[:, :, 1]"
      ],
      "metadata": {
        "id": "eTltCOm76vs9"
      },
      "execution_count": 70,
      "outputs": []
    },
    {
      "cell_type": "code",
      "source": [
        "loaded_data.shape\n",
        "Onefifthythree_band = loaded_data[:, :, 153]\n",
        "second_band = loaded_data[:, :, 1]"
      ],
      "metadata": {
        "id": "U-Rn8F7I6ymm"
      },
      "execution_count": 71,
      "outputs": []
    },
    {
      "cell_type": "code",
      "source": [
        "loaded_data.shape\n",
        "Onefifthyfour_band = loaded_data[:, :, 154]\n",
        "second_band = loaded_data[:, :, 1]"
      ],
      "metadata": {
        "id": "cKQJVK3_62ao"
      },
      "execution_count": 72,
      "outputs": []
    },
    {
      "cell_type": "code",
      "source": [
        "loaded_data.shape\n",
        "Onefifthyfive_band = loaded_data[:, :, 155]\n",
        "second_band = loaded_data[:, :, 1]"
      ],
      "metadata": {
        "id": "QUG2mn4C66v7"
      },
      "execution_count": 73,
      "outputs": []
    },
    {
      "cell_type": "code",
      "source": [
        "loaded_data.shape\n",
        "Onefifthysix_band = loaded_data[:, :, 156]\n",
        "second_band = loaded_data[:, :, 1]"
      ],
      "metadata": {
        "id": "XCHLb-qG69cp"
      },
      "execution_count": 74,
      "outputs": []
    },
    {
      "cell_type": "code",
      "source": [
        "loaded_data.shape\n",
        "Onesixthy_band = loaded_data[:, :, 160]\n",
        "second_band = loaded_data[:, :, 1]"
      ],
      "metadata": {
        "id": "jlRHXctq6_z6"
      },
      "execution_count": 75,
      "outputs": []
    },
    {
      "cell_type": "code",
      "source": [
        "loaded_data.shape\n",
        "Onesixthytwo_band = loaded_data[:, :, 162]\n",
        "second_band = loaded_data[:, :, 1]"
      ],
      "metadata": {
        "id": "fYTC95VB7DOH"
      },
      "execution_count": 76,
      "outputs": []
    },
    {
      "cell_type": "code",
      "source": [
        "loaded_data.shape\n",
        "Onesixthyfour_band = loaded_data[:, :, 164]\n",
        "second_band = loaded_data[:, :, 1]"
      ],
      "metadata": {
        "id": "MF-Aa01f7HDt"
      },
      "execution_count": 77,
      "outputs": []
    },
    {
      "cell_type": "code",
      "source": [
        "loaded_data.shape\n",
        "Onesixthynine_band = loaded_data[:, :, 169]\n",
        "second_band = loaded_data[:, :, 1]"
      ],
      "metadata": {
        "id": "ELkBS56_7Jrb"
      },
      "execution_count": 78,
      "outputs": []
    },
    {
      "cell_type": "code",
      "source": [
        "loaded_data.shape\n",
        "Oneseventhy_band = loaded_data[:, :, 170]\n",
        "second_band = loaded_data[:, :, 1]"
      ],
      "metadata": {
        "id": "1QhAnNru7L_k"
      },
      "execution_count": 79,
      "outputs": []
    },
    {
      "cell_type": "code",
      "source": [
        "loaded_data.shape\n",
        "Oneseventhyone_band = loaded_data[:, :, 171]\n",
        "second_band = loaded_data[:, :, 1]"
      ],
      "metadata": {
        "id": "anhKmwfL7PZj"
      },
      "execution_count": 80,
      "outputs": []
    },
    {
      "cell_type": "code",
      "source": [
        "loaded_data.shape\n",
        "Oneseventhythree_band = loaded_data[:, :, 173]\n",
        "second_band = loaded_data[:, :, 1]"
      ],
      "metadata": {
        "id": "RHVsnfco7enN"
      },
      "execution_count": 81,
      "outputs": []
    },
    {
      "cell_type": "code",
      "source": [
        "loaded_data.shape\n",
        "Oneseventhyfour_band = loaded_data[:, :, 174]\n",
        "second_band = loaded_data[:, :, 1]"
      ],
      "metadata": {
        "id": "44hi-Mp97ifq"
      },
      "execution_count": 82,
      "outputs": []
    },
    {
      "cell_type": "code",
      "source": [
        "import matplotlib.pyplot as plt\n",
        "plt.imsave(\"Onefourthyeight_band.png\", Onefourthyeight_band)"
      ],
      "metadata": {
        "id": "laEiVrqH7ma8"
      },
      "execution_count": 99,
      "outputs": []
    },
    {
      "cell_type": "code",
      "source": [
        "import matplotlib.pyplot as plt\n",
        "plt.imsave(\"Onefourthynine_band.png\", Onefourthynine_band)"
      ],
      "metadata": {
        "id": "mCSUVCNu778f"
      },
      "execution_count": 100,
      "outputs": []
    },
    {
      "cell_type": "code",
      "source": [
        "import matplotlib.pyplot as plt\n",
        "plt.imsave(\"Onefifthy_band.png\", Onefifthy_band)"
      ],
      "metadata": {
        "id": "ohm_fD8P8AE1"
      },
      "execution_count": 101,
      "outputs": []
    },
    {
      "cell_type": "code",
      "source": [
        "import matplotlib.pyplot as plt\n",
        "plt.imsave(\"Onefifthythree_band.png\", Onefifthythree_band)"
      ],
      "metadata": {
        "id": "c5W3KKSg8F1B"
      },
      "execution_count": 102,
      "outputs": []
    },
    {
      "cell_type": "code",
      "source": [
        "import matplotlib.pyplot as plt\n",
        "plt.imsave(\"Onefifthyfour_band.png\", Onefifthyfour_band)"
      ],
      "metadata": {
        "id": "vXTgFOXP8J1j"
      },
      "execution_count": 103,
      "outputs": []
    },
    {
      "cell_type": "code",
      "source": [
        "import matplotlib.pyplot as plt\n",
        "plt.imsave(\"Onefifthyfive_band.png\", Onefifthyfive_band)"
      ],
      "metadata": {
        "id": "noq-X6jw8MmI"
      },
      "execution_count": 104,
      "outputs": []
    },
    {
      "cell_type": "code",
      "source": [
        "import matplotlib.pyplot as plt\n",
        "plt.imsave(\"Onefifthysix_band.png\", Onefifthysix_band)"
      ],
      "metadata": {
        "id": "LruK7JV08PqL"
      },
      "execution_count": 105,
      "outputs": []
    },
    {
      "cell_type": "code",
      "source": [
        "import matplotlib.pyplot as plt\n",
        "plt.imsave(\"Onesixthy_band.png\", Onesixthy_band)"
      ],
      "metadata": {
        "id": "v482imdf8R2B"
      },
      "execution_count": 106,
      "outputs": []
    },
    {
      "cell_type": "code",
      "source": [
        "import matplotlib.pyplot as plt\n",
        "plt.imsave(\"Onesixthytwo_band.png\", Onesixthytwo_band)"
      ],
      "metadata": {
        "id": "7D45612m8VUL"
      },
      "execution_count": 107,
      "outputs": []
    },
    {
      "cell_type": "code",
      "source": [
        "import matplotlib.pyplot as plt\n",
        "plt.imsave(\"Onesixthyfour_band.png\", Onesixthyfour_band)"
      ],
      "metadata": {
        "id": "R2a1g34Q8Yrz"
      },
      "execution_count": 108,
      "outputs": []
    },
    {
      "cell_type": "code",
      "source": [
        "import matplotlib.pyplot as plt\n",
        "plt.imsave(\"Onesixthynine_band.png\", Onesixthynine_band)"
      ],
      "metadata": {
        "id": "Q8066mSL8a_f"
      },
      "execution_count": 109,
      "outputs": []
    },
    {
      "cell_type": "code",
      "source": [
        "import matplotlib.pyplot as plt\n",
        "plt.imsave(\"Oneseventhy_band.png\", Oneseventhy_band)"
      ],
      "metadata": {
        "id": "WxJIoZVF8d2h"
      },
      "execution_count": 110,
      "outputs": []
    },
    {
      "cell_type": "code",
      "source": [
        "import matplotlib.pyplot as plt\n",
        "plt.imsave(\"Oneseventhyone_band.png\", Oneseventhyone_band)"
      ],
      "metadata": {
        "id": "ZzFG1EOB8m0F"
      },
      "execution_count": 111,
      "outputs": []
    },
    {
      "cell_type": "code",
      "source": [
        "import matplotlib.pyplot as plt\n",
        "plt.imsave(\"Oneseventhythree_band.png\", Oneseventhythree_band)"
      ],
      "metadata": {
        "id": "D30sPn138p9I"
      },
      "execution_count": 112,
      "outputs": []
    },
    {
      "cell_type": "code",
      "source": [
        "import matplotlib.pyplot as plt\n",
        "plt.imsave(\"Oneseventhyfour_band.png\", Oneseventhyfour_band)"
      ],
      "metadata": {
        "id": "0sRLOPvn8s8P"
      },
      "execution_count": 113,
      "outputs": []
    },
    {
      "cell_type": "code",
      "source": [],
      "metadata": {
        "id": "UqSnwHl2_DsX"
      },
      "execution_count": null,
      "outputs": []
    },
    {
      "cell_type": "code",
      "source": [
        "loaded_data.shape\n",
        "One_band = loaded_data[:, :, 1]\n",
        "second_band = loaded_data[:, :, 1]"
      ],
      "metadata": {
        "id": "eRv7jZHt_ECx"
      },
      "execution_count": 114,
      "outputs": []
    },
    {
      "cell_type": "code",
      "source": [
        "loaded_data.shape\n",
        "Two_band = loaded_data[:, :, 2]\n",
        "second_band = loaded_data[:, :, 1]"
      ],
      "metadata": {
        "id": "1RiLDgMu_Ox-"
      },
      "execution_count": 115,
      "outputs": []
    },
    {
      "cell_type": "code",
      "source": [
        "loaded_data.shape\n",
        "Four_band = loaded_data[:, :, 4]\n",
        "second_band = loaded_data[:, :, 1]"
      ],
      "metadata": {
        "id": "uAmtsORm_U9Q"
      },
      "execution_count": 116,
      "outputs": []
    },
    {
      "cell_type": "code",
      "source": [
        "loaded_data.shape\n",
        "Six_band = loaded_data[:, :, 6]\n",
        "second_band = loaded_data[:, :, 1]"
      ],
      "metadata": {
        "id": "fUihCNja_ZOM"
      },
      "execution_count": 117,
      "outputs": []
    },
    {
      "cell_type": "code",
      "source": [
        "loaded_data.shape\n",
        "Eleven_band = loaded_data[:, :, 11]\n",
        "second_band = loaded_data[:, :, 1]"
      ],
      "metadata": {
        "id": "glk78Ar4_b61"
      },
      "execution_count": 118,
      "outputs": []
    },
    {
      "cell_type": "code",
      "source": [
        "loaded_data.shape\n",
        "Sixteen_band = loaded_data[:, :, 16]\n",
        "second_band = loaded_data[:, :, 1]"
      ],
      "metadata": {
        "id": "uJX5ipai_e2k"
      },
      "execution_count": 119,
      "outputs": []
    },
    {
      "cell_type": "code",
      "source": [
        "loaded_data.shape\n",
        "Twentyeight_band = loaded_data[:, :, 28]\n",
        "second_band = loaded_data[:, :, 1]"
      ],
      "metadata": {
        "id": "B_yaj6y__n23"
      },
      "execution_count": 120,
      "outputs": []
    },
    {
      "cell_type": "code",
      "source": [
        "loaded_data.shape\n",
        "Fortyone_band = loaded_data[:, :, 41]\n",
        "second_band = loaded_data[:, :, 1]"
      ],
      "metadata": {
        "id": "oF0hmtpU_yJ_"
      },
      "execution_count": 121,
      "outputs": []
    },
    {
      "cell_type": "code",
      "source": [
        "loaded_data.shape\n",
        "Sixtyeight_band = loaded_data[:, :, 68]\n",
        "second_band = loaded_data[:, :, 1]"
      ],
      "metadata": {
        "id": "KQatJAmFARuF"
      },
      "execution_count": 122,
      "outputs": []
    },
    {
      "cell_type": "code",
      "source": [
        "loaded_data.shape\n",
        "Seventyone_band = loaded_data[:, :, 71]\n",
        "second_band = loaded_data[:, :, 1]"
      ],
      "metadata": {
        "id": "Dmud0lTTAWVb"
      },
      "execution_count": 123,
      "outputs": []
    },
    {
      "cell_type": "code",
      "source": [
        "loaded_data.shape\n",
        "Eighty_band = loaded_data[:, :, 80]\n",
        "second_band = loaded_data[:, :, 1]"
      ],
      "metadata": {
        "id": "EBha7CDCAipp"
      },
      "execution_count": 124,
      "outputs": []
    },
    {
      "cell_type": "code",
      "source": [
        "loaded_data.shape\n",
        "Ninetynine_band = loaded_data[:, :, 99]\n",
        "second_band = loaded_data[:, :, 1]"
      ],
      "metadata": {
        "id": "MUG4Jdf-Aq28"
      },
      "execution_count": 125,
      "outputs": []
    },
    {
      "cell_type": "code",
      "source": [
        "loaded_data.shape\n",
        "Onehundred_band = loaded_data[:, :, 100]\n",
        "second_band = loaded_data[:, :, 1]"
      ],
      "metadata": {
        "id": "3OCD8G69Atat"
      },
      "execution_count": 126,
      "outputs": []
    },
    {
      "cell_type": "code",
      "source": [
        "loaded_data.shape\n",
        "Onehundredthree_band = loaded_data[:, :, 103]\n",
        "second_band = loaded_data[:, :, 1]"
      ],
      "metadata": {
        "id": "M1doNus6AvAz"
      },
      "execution_count": 127,
      "outputs": []
    },
    {
      "cell_type": "code",
      "source": [
        "loaded_data.shape\n",
        "Onehundredtwentyeight_band = loaded_data[:, :, 128]\n",
        "second_band = loaded_data[:, :, 1]"
      ],
      "metadata": {
        "id": "EFJ7pWEaAw5W"
      },
      "execution_count": 128,
      "outputs": []
    },
    {
      "cell_type": "code",
      "source": [
        "import matplotlib.pyplot as plt\n",
        "plt.imsave(\"One_band.png\", One_band)"
      ],
      "metadata": {
        "id": "3z_KvKS3BJ2K"
      },
      "execution_count": 130,
      "outputs": []
    },
    {
      "cell_type": "code",
      "source": [
        "import matplotlib.pyplot as plt\n",
        "plt.imsave(\"Two_band.png\", Two_band)"
      ],
      "metadata": {
        "id": "bLY52rWKBQ-a"
      },
      "execution_count": 131,
      "outputs": []
    },
    {
      "cell_type": "code",
      "source": [
        "import matplotlib.pyplot as plt\n",
        "plt.imsave(\"Four_band.png\", Four_band)"
      ],
      "metadata": {
        "id": "SaCYiOXaB6Vx"
      },
      "execution_count": 132,
      "outputs": []
    },
    {
      "cell_type": "code",
      "source": [
        "import matplotlib.pyplot as plt\n",
        "plt.imsave(\"Six_band.png\", Six_band)"
      ],
      "metadata": {
        "id": "dTfFPRtZB9wy"
      },
      "execution_count": 133,
      "outputs": []
    },
    {
      "cell_type": "code",
      "source": [
        "import matplotlib.pyplot as plt\n",
        "plt.imsave(\"Eleven_band.png\", Eleven_band)"
      ],
      "metadata": {
        "id": "8duphWfgCA0Y"
      },
      "execution_count": 134,
      "outputs": []
    },
    {
      "cell_type": "code",
      "source": [
        "import matplotlib.pyplot as plt\n",
        "plt.imsave(\"Sixteen_band.png\", Sixteen_band)"
      ],
      "metadata": {
        "id": "_Gv9M3BACHqW"
      },
      "execution_count": 135,
      "outputs": []
    },
    {
      "cell_type": "code",
      "source": [
        "import matplotlib.pyplot as plt\n",
        "plt.imsave(\"Twentyeight_band.png\", Twentyeight_band)"
      ],
      "metadata": {
        "id": "nghCMSTiCNqr"
      },
      "execution_count": 136,
      "outputs": []
    },
    {
      "cell_type": "code",
      "source": [
        "import matplotlib.pyplot as plt\n",
        "plt.imsave(\"Fortyone_band.png\", Fortyone_band)"
      ],
      "metadata": {
        "id": "EPXeYFxCCXIK"
      },
      "execution_count": 137,
      "outputs": []
    },
    {
      "cell_type": "code",
      "source": [
        "import matplotlib.pyplot as plt\n",
        "plt.imsave(\"Sixtyeight_band.png\", Sixtyeight_band)"
      ],
      "metadata": {
        "id": "qtEJILhGCeO0"
      },
      "execution_count": 138,
      "outputs": []
    },
    {
      "cell_type": "code",
      "source": [
        "import matplotlib.pyplot as plt\n",
        "plt.imsave(\"Seventyone_band.png\", Seventyone_band)"
      ],
      "metadata": {
        "id": "uf1D2Zq0CnuJ"
      },
      "execution_count": 139,
      "outputs": []
    },
    {
      "cell_type": "code",
      "source": [
        "import matplotlib.pyplot as plt\n",
        "plt.imsave(\"Eighty_band.png\", Eighty_band)"
      ],
      "metadata": {
        "id": "B4eIHluBCvbE"
      },
      "execution_count": 140,
      "outputs": []
    },
    {
      "cell_type": "code",
      "source": [
        "import matplotlib.pyplot as plt\n",
        "plt.imsave(\"Ninetynine_band.png\", Ninetynine_band)"
      ],
      "metadata": {
        "id": "cK0JEzjkC4XL"
      },
      "execution_count": 141,
      "outputs": []
    },
    {
      "cell_type": "code",
      "source": [
        "import matplotlib.pyplot as plt\n",
        "plt.imsave(\"Onehundred_band.png\", Onehundred_band)"
      ],
      "metadata": {
        "id": "8mqwMsiSC_Uz"
      },
      "execution_count": 142,
      "outputs": []
    },
    {
      "cell_type": "code",
      "source": [
        "import matplotlib.pyplot as plt\n",
        "plt.imsave(\"Onehundredthree_band.png\", Onehundredthree_band)"
      ],
      "metadata": {
        "id": "Weo886yXDGN2"
      },
      "execution_count": 143,
      "outputs": []
    },
    {
      "cell_type": "code",
      "source": [
        "import matplotlib.pyplot as plt\n",
        "plt.imsave(\"Onehundredtwentyeight_band.png\", Onehundredtwentyeight_band)"
      ],
      "metadata": {
        "id": "YAw0hfolDPvx"
      },
      "execution_count": 144,
      "outputs": []
    },
    {
      "cell_type": "code",
      "source": [],
      "metadata": {
        "id": "FjXJVD4FEz4w"
      },
      "execution_count": null,
      "outputs": []
    },
    {
      "cell_type": "code",
      "source": [
        "loaded_data.shape\n",
        "Eleven_band = loaded_data[:, :, 11]\n",
        "second_band = loaded_data[:, :, 1]"
      ],
      "metadata": {
        "id": "_7Gs3QxzE1Eg"
      },
      "execution_count": 145,
      "outputs": []
    },
    {
      "cell_type": "code",
      "source": [
        "loaded_data.shape\n",
        "Fourteen_band = loaded_data[:, :, 14]\n",
        "second_band = loaded_data[:, :, 1]"
      ],
      "metadata": {
        "id": "lxyjV1BVFcfW"
      },
      "execution_count": 146,
      "outputs": []
    },
    {
      "cell_type": "code",
      "source": [
        "loaded_data.shape\n",
        "Seventeen_band = loaded_data[:, :, 17]\n",
        "second_band = loaded_data[:, :, 1]"
      ],
      "metadata": {
        "id": "g_7cIjZxFiRr"
      },
      "execution_count": 147,
      "outputs": []
    },
    {
      "cell_type": "code",
      "source": [
        "loaded_data.shape\n",
        "Twentytwo_band = loaded_data[:, :, 22]\n",
        "second_band = loaded_data[:, :, 1]"
      ],
      "metadata": {
        "id": "-Jax7Kl5Fp2V"
      },
      "execution_count": 148,
      "outputs": []
    },
    {
      "cell_type": "code",
      "source": [
        "loaded_data.shape\n",
        "Twentyfour_band = loaded_data[:, :, 24]\n",
        "second_band = loaded_data[:, :, 1]"
      ],
      "metadata": {
        "id": "QaW3FXh0FszU"
      },
      "execution_count": 149,
      "outputs": []
    },
    {
      "cell_type": "code",
      "source": [
        "loaded_data.shape\n",
        "Twentyeight_band = loaded_data[:, :, 28]\n",
        "second_band = loaded_data[:, :, 1]"
      ],
      "metadata": {
        "id": "9eJcWCglFstm"
      },
      "execution_count": 150,
      "outputs": []
    },
    {
      "cell_type": "code",
      "source": [
        "loaded_data.shape\n",
        "Thirty_band = loaded_data[:, :, 30]\n",
        "second_band = loaded_data[:, :, 1]"
      ],
      "metadata": {
        "id": "Cq_c5nFTFxcO"
      },
      "execution_count": 151,
      "outputs": []
    },
    {
      "cell_type": "code",
      "source": [
        "loaded_data.shape\n",
        "Thirtyone_band = loaded_data[:, :, 31]\n",
        "second_band = loaded_data[:, :, 1]"
      ],
      "metadata": {
        "id": "XWHAns3YFz73"
      },
      "execution_count": 152,
      "outputs": []
    },
    {
      "cell_type": "code",
      "source": [
        "loaded_data.shape\n",
        "Thirtyseven_band = loaded_data[:, :, 37]\n",
        "second_band = loaded_data[:, :, 1]"
      ],
      "metadata": {
        "id": "x5cU_hHPF1-E"
      },
      "execution_count": 153,
      "outputs": []
    },
    {
      "cell_type": "code",
      "source": [
        "loaded_data.shape\n",
        "Fiftyfour_band = loaded_data[:, :, 54]\n",
        "second_band = loaded_data[:, :, 1]"
      ],
      "metadata": {
        "id": "0qjwW5PuF3j5"
      },
      "execution_count": 154,
      "outputs": []
    },
    {
      "cell_type": "code",
      "source": [
        "loaded_data.shape\n",
        "Sixtytwo_band = loaded_data[:, :, 62]\n",
        "second_band = loaded_data[:, :, 1]"
      ],
      "metadata": {
        "id": "1EVsJ030F5V8"
      },
      "execution_count": 155,
      "outputs": []
    },
    {
      "cell_type": "code",
      "source": [
        "loaded_data.shape\n",
        "Sixtythree_band = loaded_data[:, :, 63]\n",
        "second_band = loaded_data[:, :, 1]"
      ],
      "metadata": {
        "id": "k-SLIhKIF7Yo"
      },
      "execution_count": 156,
      "outputs": []
    },
    {
      "cell_type": "code",
      "source": [
        "loaded_data.shape\n",
        "Seventythree_band = loaded_data[:, :, 73]\n",
        "second_band = loaded_data[:, :, 1]"
      ],
      "metadata": {
        "id": "uoeQxy_uF9sk"
      },
      "execution_count": 157,
      "outputs": []
    },
    {
      "cell_type": "code",
      "source": [
        "loaded_data.shape\n",
        "Ninetyeight_band = loaded_data[:, :, 98]\n",
        "second_band = loaded_data[:, :, 1]"
      ],
      "metadata": {
        "id": "iGwqQhb2F_Wk"
      },
      "execution_count": 158,
      "outputs": []
    },
    {
      "cell_type": "code",
      "source": [
        "loaded_data.shape\n",
        "Onehundredfortyfour_band = loaded_data[:, :, 144]\n",
        "second_band = loaded_data[:, :, 1]"
      ],
      "metadata": {
        "id": "ffoAtTDbGByT"
      },
      "execution_count": 159,
      "outputs": []
    },
    {
      "cell_type": "code",
      "source": [
        "import matplotlib.pyplot as plt\n",
        "plt.imsave(\"Eleven_band.png\", Eleven_band)"
      ],
      "metadata": {
        "id": "9_Bd-pnVH_Q4"
      },
      "execution_count": 160,
      "outputs": []
    },
    {
      "cell_type": "code",
      "source": [
        "import matplotlib.pyplot as plt\n",
        "plt.imsave(\"Fourteen_band.png\", Fourteen_band)"
      ],
      "metadata": {
        "id": "Bwy8wzR2IJVH"
      },
      "execution_count": 161,
      "outputs": []
    },
    {
      "cell_type": "code",
      "source": [
        "import matplotlib.pyplot as plt\n",
        "plt.imsave(\"Seventeen_band.png\", Seventeen_band)"
      ],
      "metadata": {
        "id": "AFIuqhKBIsqR"
      },
      "execution_count": 162,
      "outputs": []
    },
    {
      "cell_type": "code",
      "source": [
        "import matplotlib.pyplot as plt\n",
        "plt.imsave(\"Twentytwo_band.png\", Twentytwo_band)"
      ],
      "metadata": {
        "id": "Ln7I09AOJuyy"
      },
      "execution_count": 163,
      "outputs": []
    },
    {
      "cell_type": "code",
      "source": [
        "import matplotlib.pyplot as plt\n",
        "plt.imsave(\"Twentyfour_band.png\", Twentyfour_band)"
      ],
      "metadata": {
        "id": "SYAEkLp2J6S_"
      },
      "execution_count": 164,
      "outputs": []
    },
    {
      "cell_type": "code",
      "source": [
        "import matplotlib.pyplot as plt\n",
        "plt.imsave(\"Twentyeight_band.png\", Twentyeight_band)"
      ],
      "metadata": {
        "id": "KlCzQWqbKCs_"
      },
      "execution_count": 165,
      "outputs": []
    },
    {
      "cell_type": "code",
      "source": [
        "import matplotlib.pyplot as plt\n",
        "plt.imsave(\"Thirty_band.png\", Thirty_band)"
      ],
      "metadata": {
        "id": "AQQl6XC-Kfy3"
      },
      "execution_count": 166,
      "outputs": []
    },
    {
      "cell_type": "code",
      "source": [
        "import matplotlib.pyplot as plt\n",
        "plt.imsave(\"Thirtyone_band.png\", Thirtyone_band)"
      ],
      "metadata": {
        "id": "yr5wZ60gKxV8"
      },
      "execution_count": 167,
      "outputs": []
    },
    {
      "cell_type": "code",
      "source": [
        "import matplotlib.pyplot as plt\n",
        "plt.imsave(\"Thirtyseven_band.png\", Thirtyseven_band)"
      ],
      "metadata": {
        "id": "ZR9AqwJ4LDSq"
      },
      "execution_count": 168,
      "outputs": []
    },
    {
      "cell_type": "code",
      "source": [
        "import matplotlib.pyplot as plt\n",
        "plt.imsave(\"Fiftyfour_band.png\", Fiftyfour_band)"
      ],
      "metadata": {
        "id": "f_FKgd3GLJLa"
      },
      "execution_count": 169,
      "outputs": []
    },
    {
      "cell_type": "code",
      "source": [
        "import matplotlib.pyplot as plt\n",
        "plt.imsave(\"Sixtytwo_band.png\", Sixtytwo_band)"
      ],
      "metadata": {
        "id": "G8ERPIP7LPA_"
      },
      "execution_count": 170,
      "outputs": []
    },
    {
      "cell_type": "code",
      "source": [
        "import matplotlib.pyplot as plt\n",
        "plt.imsave(\"Sixtythree_band.png\", Sixtythree_band)"
      ],
      "metadata": {
        "id": "vCteWW6TLbCn"
      },
      "execution_count": 171,
      "outputs": []
    },
    {
      "cell_type": "code",
      "source": [
        "import matplotlib.pyplot as plt\n",
        "plt.imsave(\"Seventythree_band.png\", Seventythree_band)"
      ],
      "metadata": {
        "id": "0t3mm7FQLjOi"
      },
      "execution_count": 172,
      "outputs": []
    },
    {
      "cell_type": "code",
      "source": [
        "import matplotlib.pyplot as plt\n",
        "plt.imsave(\"Ninetyeight_band.png\", Ninetyeight_band)"
      ],
      "metadata": {
        "id": "7ZKXA7-mLsuc"
      },
      "execution_count": 173,
      "outputs": []
    },
    {
      "cell_type": "code",
      "source": [
        "import matplotlib.pyplot as plt\n",
        "plt.imsave(\"Onehundredfortyfour_band.png\", Onehundredfortyfour_band)"
      ],
      "metadata": {
        "id": "EFwUyyX7L1p_"
      },
      "execution_count": 174,
      "outputs": []
    }
  ]
}